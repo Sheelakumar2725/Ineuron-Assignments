{
 "cells": [
  {
   "cell_type": "code",
   "execution_count": 17,
   "metadata": {},
   "outputs": [
    {
     "name": "stdout",
     "output_type": "stream",
     "text": [
      "1\n",
      "2\n",
      "3\n",
      "4\n",
      "5\n"
     ]
    }
   ],
   "source": [
    "'''1. Write a recursive python function to print first N natural numbers.'''\n",
    "def func_nat(n):\n",
    "    if n>0:\n",
    "        func_nat(n-1)\n",
    "        print(n)\n",
    "func_nat(int(input()))"
   ]
  },
  {
   "cell_type": "code",
   "execution_count": 19,
   "metadata": {},
   "outputs": [
    {
     "name": "stdout",
     "output_type": "stream",
     "text": [
      "5\n",
      "4\n",
      "3\n",
      "2\n",
      "1\n"
     ]
    }
   ],
   "source": [
    "'''2. Write a recursive python function to print first N natural numbers in reverse order'''\n",
    "def func_rev_nat(n):\n",
    "    if n>0:\n",
    "        print(n)\n",
    "        func_rev_nat(n-1)\n",
    "func_rev_nat(int(input()))"
   ]
  },
  {
   "cell_type": "code",
   "execution_count": 44,
   "metadata": {},
   "outputs": [
    {
     "name": "stdout",
     "output_type": "stream",
     "text": [
      "1\n",
      "3\n",
      "5\n",
      "7\n",
      "9\n",
      "11\n",
      "13\n",
      "15\n",
      "17\n",
      "19\n",
      "21\n",
      "23\n",
      "25\n"
     ]
    }
   ],
   "source": [
    "'''3. Write a recursive python function to print first N odd natural numbers'''\n",
    "def rec_odd(n):\n",
    "    if n>0:\n",
    "        rec_odd(n-1)\n",
    "        if n%2!=0:\n",
    "            sol=n\n",
    "            print(sol)\n",
    "\n",
    "rec_odd(int(input()))"
   ]
  },
  {
   "cell_type": "code",
   "execution_count": 49,
   "metadata": {},
   "outputs": [
    {
     "name": "stdout",
     "output_type": "stream",
     "text": [
      "25\n",
      "23\n",
      "21\n",
      "19\n",
      "17\n",
      "15\n",
      "13\n",
      "11\n",
      "9\n",
      "7\n",
      "5\n",
      "3\n",
      "1\n"
     ]
    }
   ],
   "source": [
    "'''4. Write a recursive python function to print first N odd natural numbers in reverse order'''\n",
    "def reverse_odd(n):\n",
    "    if n>0:\n",
    "        if n%2!=0:\n",
    "            print(n)\n",
    "        reverse_odd(n-1)\n",
    "reverse_odd(int(input()))\n"
   ]
  },
  {
   "cell_type": "code",
   "execution_count": 51,
   "metadata": {},
   "outputs": [
    {
     "name": "stdout",
     "output_type": "stream",
     "text": [
      "2\n",
      "4\n",
      "6\n",
      "8\n",
      "10\n",
      "12\n",
      "14\n",
      "16\n",
      "18\n",
      "20\n",
      "22\n",
      "24\n"
     ]
    }
   ],
   "source": [
    "'''5. Write a recursive python function to print first N even natural numbers.'''\n",
    "def even_nat(n):\n",
    "     if n>0:\n",
    "          even_nat(n-1)\n",
    "          if n%2==0:\n",
    "               print(n)   \n",
    "even_nat(int(input())) "
   ]
  },
  {
   "cell_type": "code",
   "execution_count": 52,
   "metadata": {},
   "outputs": [
    {
     "name": "stdout",
     "output_type": "stream",
     "text": [
      "24\n",
      "22\n",
      "20\n",
      "18\n",
      "16\n",
      "14\n",
      "12\n",
      "10\n",
      "8\n",
      "6\n",
      "4\n",
      "2\n"
     ]
    }
   ],
   "source": [
    "'''6. Write a recursive python function to print first N even natural numbers in reverse\n",
    "order.'''\n",
    "def reverse_even(n):\n",
    "    if n>0:\n",
    "        if n%2==0:\n",
    "            print(n)\n",
    "        reverse_even(n-1)\n",
    "reverse_even(int(input()))"
   ]
  },
  {
   "cell_type": "code",
   "execution_count": 56,
   "metadata": {},
   "outputs": [
    {
     "name": "stdout",
     "output_type": "stream",
     "text": [
      "1 = 1\n",
      "2 = 4\n",
      "3 = 9\n",
      "4 = 16\n",
      "5 = 25\n",
      "6 = 36\n",
      "7 = 49\n",
      "8 = 64\n",
      "9 = 81\n",
      "10 = 100\n"
     ]
    }
   ],
   "source": [
    "'''7. Write a recursive python function to print squares of first N natural numbers'''\n",
    "def squares(n):\n",
    "    if n>0:\n",
    "        squares(n-1)\n",
    "        print(n,\"=\",n**2)\n",
    "squares(int(input()))"
   ]
  },
  {
   "cell_type": "code",
   "execution_count": 57,
   "metadata": {},
   "outputs": [
    {
     "name": "stdout",
     "output_type": "stream",
     "text": [
      "1 = 1\n",
      "2 = 8\n",
      "3 = 27\n",
      "4 = 64\n",
      "5 = 125\n",
      "6 = 216\n",
      "7 = 343\n",
      "8 = 512\n",
      "9 = 729\n",
      "10 = 1000\n"
     ]
    }
   ],
   "source": [
    "'''8. Write a recursive python function to print cubes of first N natural numbers'''\n",
    "def cubes(n):\n",
    "    if n > 0:\n",
    "        cubes(n-1)\n",
    "        print(n, \"=\" , n**3)\n",
    "cubes(int(input()))"
   ]
  },
  {
   "cell_type": "code",
   "execution_count": 60,
   "metadata": {},
   "outputs": [
    {
     "name": "stdout",
     "output_type": "stream",
     "text": [
      "1 * 3 = 3\n",
      "2 * 3 = 6\n",
      "3 * 3 = 9\n",
      "4 * 3 = 12\n",
      "5 * 3 = 15\n"
     ]
    }
   ],
   "source": [
    "'''9. Write a recursive python function to print first N multiples of a given number.'''\n",
    "def multiples(n,number):\n",
    "    if n > 0:\n",
    "        multiples(n-1,number)\n",
    "        sol=n*number\n",
    "        print(n,\"*\",number ,\"=\",sol)\n",
    "multiples(5,3)\n"
   ]
  },
  {
   "cell_type": "code",
   "execution_count": 70,
   "metadata": {},
   "outputs": [
    {
     "name": "stdout",
     "output_type": "stream",
     "text": [
      "54321"
     ]
    }
   ],
   "source": [
    "'''10. Write a recursive python function to print a number in reverse order.'''\n",
    "def reverse_order(n):\n",
    "    sol=0\n",
    "    if n>0:\n",
    "        sol=n%10\n",
    "        print(sol,end=\"\")\n",
    "        n=n//10\n",
    "        reverse_order(n)\n",
    "reverse_order(int(input()))\n"
   ]
  },
  {
   "cell_type": "code",
   "execution_count": null,
   "metadata": {},
   "outputs": [],
   "source": []
  }
 ],
 "metadata": {
  "kernelspec": {
   "display_name": "Python 3",
   "language": "python",
   "name": "python3"
  },
  "language_info": {
   "codemirror_mode": {
    "name": "ipython",
    "version": 3
   },
   "file_extension": ".py",
   "mimetype": "text/x-python",
   "name": "python",
   "nbconvert_exporter": "python",
   "pygments_lexer": "ipython3",
   "version": "3.10.6"
  },
  "orig_nbformat": 4
 },
 "nbformat": 4,
 "nbformat_minor": 2
}
