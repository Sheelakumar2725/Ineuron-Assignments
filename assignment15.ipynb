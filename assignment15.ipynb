{
 "cells": [
  {
   "cell_type": "code",
   "execution_count": 1,
   "metadata": {},
   "outputs": [
    {
     "name": "stdout",
     "output_type": "stream",
     "text": [
      "sheela kumar vikram vinay "
     ]
    }
   ],
   "source": [
    "'''1. Write a python script to create a String in 3 different possible ways'''\n",
    "s1='sheela kumar'\n",
    "s2=\"vikram\"\n",
    "s3='''vinay'''\n",
    "print(s1,s2,s3, end=' ')"
   ]
  },
  {
   "cell_type": "code",
   "execution_count": 7,
   "metadata": {},
   "outputs": [
    {
     "name": "stdout",
     "output_type": "stream",
     "text": [
      "iNeuro\n"
     ]
    }
   ],
   "source": [
    "'''2. Write a python script to Get the characters from the start to position 5 (Given String\n",
    "“iNeuron” using the slice syntax)'''\n",
    "string=\"iNeuron\"\n",
    "s1=string[:5+1]\n",
    "print(s1)"
   ]
  },
  {
   "cell_type": "code",
   "execution_count": 8,
   "metadata": {},
   "outputs": [
    {
     "name": "stdout",
     "output_type": "stream",
     "text": [
      "llo \n"
     ]
    }
   ],
   "source": [
    "'''3. Write a python script to Get the characters from position 2 to position 5 (Given String\n",
    "“Hello Learners” using the slice syntax)'''\n",
    "given_string= \"Hello Learners\"\n",
    "s=given_string[2:5+1:1]\n",
    "print(s)\n"
   ]
  },
  {
   "cell_type": "code",
   "execution_count": 12,
   "metadata": {},
   "outputs": [
    {
     "name": "stdout",
     "output_type": "stream",
     "text": [
      "Learning python\n"
     ]
    }
   ],
   "source": [
    "'''4. Write a python script to demonstrate String Concatenation adding space in between (\n",
    "Given Strings a=”Learning” b=”Python” )'''\n",
    "a=\"Learning\"\n",
    "b=\"python\"\n",
    "c=a+\" \"+b\n",
    "print(c)"
   ]
  },
  {
   "cell_type": "code",
   "execution_count": 19,
   "metadata": {},
   "outputs": [
    {
     "name": "stdout",
     "output_type": "stream",
     "text": [
      "7\n"
     ]
    }
   ],
   "source": [
    "'''5. Write a python script to get the count of total number of characters in String a=\n",
    "“iNeuron”'''\n",
    "a=\"iNeuron\"\n",
    "c=len(a)\n",
    "print(c)\n"
   ]
  },
  {
   "cell_type": "code",
   "execution_count": 36,
   "metadata": {},
   "outputs": [
    {
     "name": "stdout",
     "output_type": "stream",
     "text": [
      "norueNi\n"
     ]
    }
   ],
   "source": [
    "'''6. Write a python script to reverse a String. (“iNeuron”)'''\n",
    "a=\"iNeuron\"\n",
    "c=a[::-1]\n",
    "print(c)"
   ]
  },
  {
   "cell_type": "code",
   "execution_count": 38,
   "metadata": {},
   "outputs": [
    {
     "name": "stdout",
     "output_type": "stream",
     "text": [
      "The string contains the substring.\n"
     ]
    }
   ],
   "source": [
    "'''7. Write a python script to determine whether a string contains a specific substring.'''\n",
    "\n",
    "def check_substring(string, substring):\n",
    "    if substring in string:\n",
    "        return True\n",
    "    else:\n",
    "        return False\n",
    "\n",
    "string = \"Hello, World!\"\n",
    "substring = \"World\"\n",
    "\n",
    "contains_substring = check_substring(string, substring)\n",
    "\n",
    "if contains_substring:\n",
    "    print(\"The string contains the substring.\")\n",
    "else:\n",
    "    print(\"The string does not contain the substring.\")\n"
   ]
  },
  {
   "cell_type": "code",
   "execution_count": 51,
   "metadata": {},
   "outputs": [
    {
     "name": "stdout",
     "output_type": "stream",
     "text": [
      "True\n"
     ]
    }
   ],
   "source": [
    "'''8. Write a python script to check if a string contains only numbers.'''\n",
    "string=input(\"enter a string\")\n",
    "c=string.isdigit()\n",
    "print(c)\n"
   ]
  },
  {
   "cell_type": "code",
   "execution_count": 50,
   "metadata": {},
   "outputs": [
    {
     "name": "stdout",
     "output_type": "stream",
     "text": [
      "False\n"
     ]
    }
   ],
   "source": [
    "'''9. Write a python script to check if a string contains only characters of the alphabet.'''\n",
    "string=input(\"enter a string\")\n",
    "c=string.isalpha()\n",
    "print(c)"
   ]
  },
  {
   "cell_type": "code",
   "execution_count": 55,
   "metadata": {},
   "outputs": [
    {
     "name": "stdout",
     "output_type": "stream",
     "text": [
      "5\n"
     ]
    }
   ],
   "source": [
    "'''10. Write a python script to convert an integer to a string.'''\n",
    "num=int(input(\"enter an integer\"))\n",
    "string=str(num)\n",
    "print(string)\n"
   ]
  },
  {
   "cell_type": "code",
   "execution_count": null,
   "metadata": {},
   "outputs": [],
   "source": []
  }
 ],
 "metadata": {
  "kernelspec": {
   "display_name": "Python 3",
   "language": "python",
   "name": "python3"
  },
  "language_info": {
   "codemirror_mode": {
    "name": "ipython",
    "version": 3
   },
   "file_extension": ".py",
   "mimetype": "text/x-python",
   "name": "python",
   "nbconvert_exporter": "python",
   "pygments_lexer": "ipython3",
   "version": "3.10.6"
  },
  "orig_nbformat": 4
 },
 "nbformat": 4,
 "nbformat_minor": 2
}
