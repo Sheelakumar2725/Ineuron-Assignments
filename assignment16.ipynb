{
 "cells": [
  {
   "cell_type": "code",
   "execution_count": 3,
   "metadata": {},
   "outputs": [
    {
     "name": "stdout",
     "output_type": "stream",
     "text": [
      "('Java', 'Python', 'SQL', 'C')\n"
     ]
    }
   ],
   "source": [
    "'''1. Write a python script to store multiple items in a single variable ( Items are “Java”\n",
    ",“Python”, “SQL”, “C” ) using t'''\n",
    "items=(\"Java\",\"Python\",\"SQL\",\"C\")\n",
    "print(items)"
   ]
  },
  {
   "cell_type": "code",
   "execution_count": 9,
   "metadata": {},
   "outputs": [
    {
     "name": "stdout",
     "output_type": "stream",
     "text": [
      "sheeka\n"
     ]
    }
   ],
   "source": [
    "'''2. Write a python program to store only one item using t.'''\n",
    "item=input(\"enter an item\").split(',')\n",
    "t=item[0]\n",
    "print(t)"
   ]
  },
  {
   "cell_type": "code",
   "execution_count": 10,
   "metadata": {},
   "outputs": [
    {
     "name": "stdout",
     "output_type": "stream",
     "text": [
      "(30, 20, 10)\n"
     ]
    }
   ],
   "source": [
    "'''3. Write a python program to reverse the t.'''\n",
    "t1=(10,20,30)\n",
    "t2=t1[::-1]\n",
    "print(t2)"
   ]
  },
  {
   "cell_type": "code",
   "execution_count": 13,
   "metadata": {},
   "outputs": [
    {
     "name": "stdout",
     "output_type": "stream",
     "text": [
      "after swaping\n",
      "(20, 58, 34)\n",
      "(10, 23, 45, 67)\n"
     ]
    }
   ],
   "source": [
    "'''4. Write a python program to Swap two ts in Python.'''\n",
    "t1=(10,23,45,67)\n",
    "t2=(20,58,34)\n",
    "t1,t2=t2,t1\n",
    "print(\"after swaping\")\n",
    "print(t1)\n",
    "print(t2)"
   ]
  },
  {
   "cell_type": "code",
   "execution_count": 27,
   "metadata": {},
   "outputs": [
    {
     "name": "stdout",
     "output_type": "stream",
     "text": [
      "10\n"
     ]
    }
   ],
   "source": [
    "'''5. Write a python program to check if all items in the t are the same.'''\n",
    "t=[4]*10\n",
    "sol='all are same'\n",
    "for i in t[1:]:\n",
    "    if i!=t[0]:\n",
    "        sol='Not same'\n",
    "        break\n",
    "print(sol)"
   ]
  },
  {
   "cell_type": "code",
   "execution_count": 37,
   "metadata": {},
   "outputs": [
    {
     "name": "stdout",
     "output_type": "stream",
     "text": [
      "100 200 300 400\n"
     ]
    }
   ],
   "source": [
    "'''6. Write a python program to divide the t into four variables.\n",
    "t1=(100, 200, 300, 400)'''\n",
    "t1=(100, 200, 300, 400)\n",
    "a,b,c,d=t1\n",
    "print(a,b,c,d)"
   ]
  },
  {
   "cell_type": "code",
   "execution_count": 49,
   "metadata": {},
   "outputs": [
    {
     "name": "stdout",
     "output_type": "stream",
     "text": [
      "(4, 5)\n"
     ]
    }
   ],
   "source": [
    "'''7. Write a python program to copy elements 4 and 5 from the following t into a new\n",
    "t. t1=(1,2,3,4,5,6)'''\n",
    "t1=(1,2,3,4,5,6)\n",
    "t2=t1[3:5]\n",
    "\n",
    "print(t2)"
   ]
  },
  {
   "cell_type": "code",
   "execution_count": 11,
   "metadata": {},
   "outputs": [
    {
     "name": "stdout",
     "output_type": "stream",
     "text": [
      "[('c', 11), ('a', 21), ('d', 29), ('b', 37)]\n"
     ]
    }
   ],
   "source": [
    "'''8. Write a python program to Sort a tuple of tuples by the second item.\n",
    "t1 = (('a', 21),('b', 37),('c', 11), ('d',29))'''\n",
    "tuple1 = (('a', 21), ('b', 37), ('c', 11), ('d', 29))\n",
    "\n",
    "sorted_tuple = sorted(tuple1, key=lambda x: x[1])\n",
    "\n",
    "print(sorted_tuple)\n"
   ]
  },
  {
   "cell_type": "code",
   "execution_count": 15,
   "metadata": {},
   "outputs": [
    {
     "name": "stdout",
     "output_type": "stream",
     "text": [
      "20\n"
     ]
    }
   ],
   "source": [
    "'''9. Write a python program to print the value 20 from given nested tuple\n",
    "tuple1 = (\"Python\", [10, 20, 30], (2, 4, 16))'''\n",
    "\n",
    "tuple1 = (\"Python\", [10, 20, 30], (2, 4, 16))\n",
    "value=tuple1[1][1]\n",
    "print(value)        \n",
    "\n"
   ]
  },
  {
   "cell_type": "code",
   "execution_count": 17,
   "metadata": {},
   "outputs": [
    {
     "name": "stdout",
     "output_type": "stream",
     "text": [
      "(11, [222, 33], 44, 55)\n"
     ]
    }
   ],
   "source": [
    "'''10. Write a python program to change the first item (22) of a list within the following tuple\n",
    "to 222.\n",
    "tuple1 = (11, [22, 33], 44, 55)'''\n",
    "tuple1 = (11, [22, 33], 44, 55)\n",
    "tuple1[1][0]=222\n",
    "print(tuple1)"
   ]
  },
  {
   "cell_type": "code",
   "execution_count": null,
   "metadata": {},
   "outputs": [],
   "source": []
  }
 ],
 "metadata": {
  "kernelspec": {
   "display_name": "Python 3",
   "language": "python",
   "name": "python3"
  },
  "language_info": {
   "codemirror_mode": {
    "name": "ipython",
    "version": 3
   },
   "file_extension": ".py",
   "mimetype": "text/x-python",
   "name": "python",
   "nbconvert_exporter": "python",
   "pygments_lexer": "ipython3",
   "version": "3.10.6"
  },
  "orig_nbformat": 4
 },
 "nbformat": 4,
 "nbformat_minor": 2
}
