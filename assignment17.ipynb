{
 "cells": [
  {
   "cell_type": "code",
   "execution_count": 1,
   "metadata": {},
   "outputs": [
    {
     "name": "stdout",
     "output_type": "stream",
     "text": [
      "{'c', 'java', 'python', 'C++'}\n"
     ]
    }
   ],
   "source": [
    "'''1. Write a python program to store all the programming languages known to you using\n",
    "Set.'''\n",
    "\n",
    "s={\"java\",\"python\",\"c\",\"C++\"}\n",
    "print(s)"
   ]
  },
  {
   "cell_type": "code",
   "execution_count": 2,
   "metadata": {},
   "outputs": [
    {
     "name": "stdout",
     "output_type": "stream",
     "text": [
      "{'male', 'sheela kumar', 'b+', 23}\n"
     ]
    }
   ],
   "source": [
    "'''2. Write a python program to store your own information {name, age, gender, so on..}'''\n",
    "my_detail={'sheela kumar',23,'male','b+'}\n",
    "print(my_detail)"
   ]
  },
  {
   "cell_type": "code",
   "execution_count": 3,
   "metadata": {},
   "outputs": [
    {
     "name": "stdout",
     "output_type": "stream",
     "text": [
      "<class 'set'>\n"
     ]
    }
   ],
   "source": [
    "'''3. Write a python script to get the data type of a Set.'''\n",
    "s={20,30,40,50,60}\n",
    "print(type(s))"
   ]
  },
  {
   "cell_type": "code",
   "execution_count": 7,
   "metadata": {},
   "outputs": [
    {
     "name": "stdout",
     "output_type": "stream",
     "text": [
      "the set has python\n"
     ]
    }
   ],
   "source": [
    "'''4. Write a Python script to find if “Python” is present in the set thisset = {\"Java\",\n",
    "\"Python\", \"Django\"}'''\n",
    "thisset = {\"Java\",\"python\", \"Django\"}\n",
    "for i in thisset:\n",
    "    if i==\"python\":\n",
    "        print(\"the set has python\")\n",
    "        break\n",
    "else:\n",
    "    print(\"the set dosen't has python\")\n"
   ]
  },
  {
   "cell_type": "code",
   "execution_count": 12,
   "metadata": {},
   "outputs": [
    {
     "name": "stdout",
     "output_type": "stream",
     "text": [
      "{'NoSQL', 'Python', 'Cpp', 'SQL', 'Java', 'C'}\n"
     ]
    }
   ],
   "source": [
    "'''5. Write a python program to add items from another set to the current set. thisset =\n",
    "{\"Java\", \"Python\", \"SQL\"}, secondset= {\"C\", \"Cpp\", \"NoSQL\"}'''\n",
    "thisset={\"Java\", \"Python\",\"SQL\"}\n",
    "secondset= {\"C\", \"Cpp\", \"NoSQL\"}\n",
    "for i in secondset:\n",
    "    thisset.add(i)\n",
    "print(thisset)\n"
   ]
  },
  {
   "cell_type": "code",
   "execution_count": 16,
   "metadata": {},
   "outputs": [
    {
     "name": "stdout",
     "output_type": "stream",
     "text": [
      "updated set: {'JavaScript', 'Python', 'C', 'Java', 'Django'}\n"
     ]
    }
   ],
   "source": [
    "'''6. Write a python program to add elements of list to a set\n",
    "thisset = {\"Python\", \"Django\", \"JavaScript\"}\n",
    "mylist = [\"Java\", \"C\"]'''\n",
    "thisset = {\"Python\", \"Django\", \"JavaScript\"}\n",
    "mylist = [\"Java\", \"C\"]\n",
    "thisset.update(mylist)\n",
    "print(\"updated set:\" , thisset)\n",
    "\n",
    "\n"
   ]
  },
  {
   "cell_type": "code",
   "execution_count": 32,
   "metadata": {},
   "outputs": [
    {
     "name": "stdout",
     "output_type": "stream",
     "text": [
      "updated set: {'Python', 'JavaScript', 'Django'}\n"
     ]
    }
   ],
   "source": [
    "'''7. Write a python program to remove last item of the given set\n",
    "thisset = {\"Python\", \"Django\", \"JavaScript\", “SQL”}'''\n",
    "thisset={\"Python\", \"Django\", \"JavaScript\", \"SQL\"}\n",
    "thisset.discard('SQL')\n",
    "print(\"updated set:\",thisset)"
   ]
  },
  {
   "cell_type": "code",
   "execution_count": 36,
   "metadata": {},
   "outputs": [
    {
     "ename": "NameError",
     "evalue": "name 'thisset' is not defined",
     "output_type": "error",
     "traceback": [
      "\u001b[1;31m---------------------------------------------------------------------------\u001b[0m",
      "\u001b[1;31mNameError\u001b[0m                                 Traceback (most recent call last)",
      "Cell \u001b[1;32mIn[36], line 4\u001b[0m\n\u001b[0;32m      2\u001b[0m thisset\u001b[39m=\u001b[39m{\u001b[39m\"\u001b[39m\u001b[39mPython\u001b[39m\u001b[39m\"\u001b[39m, \u001b[39m\"\u001b[39m\u001b[39mDjango\u001b[39m\u001b[39m\"\u001b[39m, \u001b[39m\"\u001b[39m\u001b[39mJavaScript\u001b[39m\u001b[39m\"\u001b[39m, \u001b[39m\"\u001b[39m\u001b[39mSQL\u001b[39m\u001b[39m\"\u001b[39m}\n\u001b[0;32m      3\u001b[0m \u001b[39mdel\u001b[39;00m thisset\n\u001b[1;32m----> 4\u001b[0m \u001b[39mprint\u001b[39m(thisset)\n",
      "\u001b[1;31mNameError\u001b[0m: name 'thisset' is not defined"
     ]
    }
   ],
   "source": [
    "'''8. Write a python program to delete the set completely.'''\n",
    "thisset={\"Python\", \"Django\", \"JavaScript\", \"SQL\"}\n",
    "del thisset\n",
    "print(thisset)"
   ]
  },
  {
   "cell_type": "code",
   "execution_count": 38,
   "metadata": {},
   "outputs": [
    {
     "name": "stdout",
     "output_type": "stream",
     "text": [
      "Python\n",
      "SQL\n",
      "JavaScript\n",
      "Django\n"
     ]
    }
   ],
   "source": [
    "'''9. Write a python program to loop through the set and print values\n",
    "thisset = {\"Python\", \"Django\", \"JavaScript\", “SQL”}'''\n",
    "thisset = {\"Python\", \"Django\", \"JavaScript\", \"SQL\"}\n",
    "for i in thisset:\n",
    "    print(i)\n",
    "           \n"
   ]
  },
  {
   "cell_type": "code",
   "execution_count": 39,
   "metadata": {},
   "outputs": [
    {
     "name": "stdout",
     "output_type": "stream",
     "text": [
      "the max value of myset is 2789\n",
      "the min value of myset is 20\n"
     ]
    }
   ],
   "source": [
    "'''10. Write a python program to find the maximum and minimum value in a set.'''\n",
    "myset={20,60,21,48,340,2789}\n",
    "mylist=list(myset)\n",
    "m1=max(mylist)\n",
    "m2=min(mylist)\n",
    "myset=set(mylist)\n",
    "print(f\"the max value of myset is {m1}\")\n",
    "print(f\"the min value of myset is {m2}\")"
   ]
  },
  {
   "cell_type": "code",
   "execution_count": null,
   "metadata": {},
   "outputs": [],
   "source": []
  }
 ],
 "metadata": {
  "kernelspec": {
   "display_name": "Python 3",
   "language": "python",
   "name": "python3"
  },
  "language_info": {
   "codemirror_mode": {
    "name": "ipython",
    "version": 3
   },
   "file_extension": ".py",
   "mimetype": "text/x-python",
   "name": "python",
   "nbconvert_exporter": "python",
   "pygments_lexer": "ipython3",
   "version": "3.10.6"
  },
  "orig_nbformat": 4
 },
 "nbformat": 4,
 "nbformat_minor": 2
}
