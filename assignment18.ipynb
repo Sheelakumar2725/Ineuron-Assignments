{
 "cells": [
  {
   "cell_type": "code",
   "execution_count": 14,
   "metadata": {},
   "outputs": [
    {
     "name": "stdout",
     "output_type": "stream",
     "text": [
      "{'name': 'sheela kuamr', 'age': 23, 'gender': 'male'}\n"
     ]
    },
    {
     "data": {
      "text/plain": [
       "'male'"
      ]
     },
     "execution_count": 14,
     "metadata": {},
     "output_type": "execute_result"
    }
   ],
   "source": [
    "'''1. Write a python program to create and print a dictionary which stores your information.\n",
    "(name, age, gender .....)'''\n",
    "info={\"name\":\"sheela kuamr\",\"age\":23,\"gender\":\"male\"}\n",
    "print(info)"
   ]
  },
  {
   "cell_type": "code",
   "execution_count": 20,
   "metadata": {},
   "outputs": [
    {
     "name": "stdout",
     "output_type": "stream",
     "text": [
      "ramesh: 98745862\n",
      "suresh: 7859648\n"
     ]
    }
   ],
   "source": [
    "'''2. Write a python program to access the items of a dictionary by referring to its key\n",
    "name.'''\n",
    "keys={\"phone book\":{\"ramesh\":98745862,\"suresh\":7859648,\"rahul\":854796512}}\n",
    "print(\"ramesh:\",keys[\"phone book\"][\"ramesh\"])\n",
    "print(\"suresh:\",keys[\"phone book\"][\"suresh\"])"
   ]
  },
  {
   "cell_type": "code",
   "execution_count": 31,
   "metadata": {},
   "outputs": [
    {
     "name": "stdout",
     "output_type": "stream",
     "text": [
      "values: [[20, 10, 50, 60, 78], [20, 74, 65, 85, 14], [214, 45]]\n"
     ]
    }
   ],
   "source": [
    "'''3. Write a python program to get a list of the values from a dictionary.'''\n",
    "l={\"a\":[20,10,50,60,78],\"b\":[20,74,65,85,14],\"c\":[214,45]}\n",
    "values=list(l.values())\n",
    "print(\"values:\",values)\n"
   ]
  },
  {
   "cell_type": "code",
   "execution_count": 75,
   "metadata": {},
   "outputs": [
    {
     "name": "stdout",
     "output_type": "stream",
     "text": [
      "before change {'name': 'harsha', 'age': 24, 'gender': 'male', 'email': 'harsha@gmail.com'}\n",
      "age: 24\n",
      "after change {'name': 'harsha', 'age': 23, 'gender': 'male', 'email': 'harsha@gmail.com'}\n",
      "age: 23\n"
     ]
    }
   ],
   "source": [
    "'''4. Write a python program to change the value of a specific item by referring to its key\n",
    "name.'''\n",
    "dict={\"name\":\"harsha\",\"age\":24,\"gender\":\"male\",\"email\":\"harsha@gmail.com\"}\n",
    "print(\"before change\",dict)\n",
    "print(\"age:\",dict[\"age\"])\n",
    "dict[\"age\"]=23\n",
    "print(\"after change\",dict)\n",
    "print(\"age:\",dict[\"age\"])\n"
   ]
  },
  {
   "cell_type": "code",
   "execution_count": 74,
   "metadata": {},
   "outputs": [
    {
     "name": "stdout",
     "output_type": "stream",
     "text": [
      "dict_keys(['name', 'age', 'gender', 'email'])\n",
      "name\n",
      "age\n",
      "gender\n",
      "email\n"
     ]
    }
   ],
   "source": [
    "'''5. Write a python program to print all key names in the dictionary, one by one.'''\n",
    "\n",
    "dict={\"name\":\"harsha\",\"age\":24,\"gender\":\"male\",\"email\":\"harsha@gmail.com\"}\n",
    "keys=dict.keys()\n",
    "print(keys)\n",
    "for i in keys:\n",
    "    print(i)\n"
   ]
  },
  {
   "cell_type": "code",
   "execution_count": 76,
   "metadata": {},
   "outputs": [
    {
     "name": "stdout",
     "output_type": "stream",
     "text": [
      "{'name': {'suresh': {'age': 32}, 'gender': 'male'}}\n"
     ]
    },
    {
     "data": {
      "text/plain": [
       "{'age': 32}"
      ]
     },
     "execution_count": 76,
     "metadata": {},
     "output_type": "execute_result"
    }
   ],
   "source": [
    "'''6. Write a python program to create a dictionary that contains three dictionaries.\n",
    "(nested)'''\n",
    "dict={\"name\":{\"suresh\":{\"age\":32},\"gender\":\"male\"}}\n",
    "print(dict)\n",
    "dict[\"name\"][\"suresh\"]\n"
   ]
  },
  {
   "cell_type": "code",
   "execution_count": 62,
   "metadata": {},
   "outputs": [
    {
     "name": "stdout",
     "output_type": "stream",
     "text": [
      "my_dict_: {'dict1': {'name': 'harsha'}, 'dict2': {'age': 24}, 'dict3': {'gender': 'male'}}\n"
     ]
    }
   ],
   "source": [
    "'''7. Write a python program to create three dictionaries, then create one dictionary that\n",
    "will contain the other three dictionaries.'''\n",
    "dict1={\"name\":\"harsha\"}\n",
    "dict2={\"age\":24}\n",
    "dict3={\"gender\":\"male\"}\n",
    "my_dict_={\"dict1\":dict1,\"dict2\":dict2,\"dict3\":dict3}\n",
    "print(\"my_dict_:\",my_dict_)\n",
    "\n",
    "\n",
    "\n"
   ]
  },
  {
   "cell_type": "code",
   "execution_count": 71,
   "metadata": {},
   "outputs": [
    {
     "name": "stdout",
     "output_type": "stream",
     "text": [
      "{1: 'ramesh', 2: 'suresh', 3: 'harsh', 4: 'deepak'}\n"
     ]
    }
   ],
   "source": [
    "'''8. Write a python program to convert two lists into a dictionary in a way that item from\n",
    "list1 is the key and item from list2 is the value.'''\n",
    "list1_keys=[1,2,3,4]\n",
    "list2_values=['ramesh','suresh','harsh','deepak']\n",
    "my_dict_= dict(zip(list1_keys,list2_values))\n",
    "print(my_dict_)"
   ]
  },
  {
   "cell_type": "code",
   "execution_count": 95,
   "metadata": {},
   "outputs": [
    {
     "name": "stdout",
     "output_type": "stream",
     "text": [
      "d3: {'name': 'rahul', 'age': 26, 'gender': 'male', 'n_name': 'swathi', 'a_age': 23, 'g_gender': 'female'}\n"
     ]
    }
   ],
   "source": [
    "'''9. Write a python program to merge two python dictionaries into one dictionary.'''\n",
    "d1={\"name\":'rahul','age':26,'gender':'male'}\n",
    "d2={\"n_name\":'swathi',\"a_age\":23,'g_gender': 'female'}\n",
    "d3={**d1,**d2}\n",
    "print('d3:', d3)\n",
    "\n"
   ]
  },
  {
   "cell_type": "code",
   "execution_count": 96,
   "metadata": {},
   "outputs": [
    {
     "name": "stdout",
     "output_type": "stream",
     "text": [
      "the lowest from the key: Java\n"
     ]
    }
   ],
   "source": [
    "'''10. Write a python program to get the key of lowest value from the dictionary.\n",
    "sample_dict = {\n",
    "'C': 92,\n",
    "'Java': 66,\n",
    "'Python': 85\n",
    "}'''\n",
    "sample_dict = {'C': 92,'Java': 66,'Python': 85}\n",
    "lowest_value = min(sample_dict.values())\n",
    "lowest_key = min(sample_dict, key=sample_dict.get)\n",
    "print('the lowest from the key:',lowest_key)\n"
   ]
  },
  {
   "cell_type": "code",
   "execution_count": null,
   "metadata": {},
   "outputs": [],
   "source": []
  }
 ],
 "metadata": {
  "kernelspec": {
   "display_name": "Python 3",
   "language": "python",
   "name": "python3"
  },
  "language_info": {
   "codemirror_mode": {
    "name": "ipython",
    "version": 3
   },
   "file_extension": ".py",
   "mimetype": "text/x-python",
   "name": "python",
   "nbconvert_exporter": "python",
   "pygments_lexer": "ipython3",
   "version": "3.10.6"
  },
  "orig_nbformat": 4
 },
 "nbformat": 4,
 "nbformat_minor": 2
}
