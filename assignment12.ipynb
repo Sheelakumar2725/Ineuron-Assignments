{
 "cells": [
  {
   "cell_type": "code",
   "execution_count": 6,
   "metadata": {},
   "outputs": [
    {
     "name": "stdout",
     "output_type": "stream",
     "text": [
      "12\n",
      "1\n",
      "0\n",
      "The reversed number is:  321\n"
     ]
    }
   ],
   "source": [
    "'''1. Write a python script to reverse a number.'''\n",
    "num=int(input(\"enter a number:\"))\n",
    "rev = 0\n",
    "while num > 0:\n",
    "    digit = num % 10\n",
    "    rev = (rev * 10) + digit\n",
    "    num =num//10\n",
    "    print(num)\n",
    "\n",
    "print(\"The reversed number is: \", rev)"
   ]
  },
  {
   "cell_type": "code",
   "execution_count": 13,
   "metadata": {},
   "outputs": [
    {
     "name": "stdout",
     "output_type": "stream",
     "text": [
      "the given number is not a prime\n"
     ]
    }
   ],
   "source": [
    "'''2. Write a python script to check whether a given number is Prime or not'''\n",
    "num=int(input(\"enter a number:\"))\n",
    "count=0\n",
    "i=1\n",
    "while i<=num:\n",
    "    if num%i==0:\n",
    "        count+=1\n",
    "    i+=1\n",
    "if count==2:\n",
    "    print(\"the given number is prime\")\n",
    "else:\n",
    "    print(\"the given number is not a prime\")"
   ]
  },
  {
   "cell_type": "code",
   "execution_count": 16,
   "metadata": {},
   "outputs": [
    {
     "name": "stdout",
     "output_type": "stream",
     "text": [
      "2\n",
      "3\n",
      "5\n",
      "7\n",
      "11\n",
      "13\n",
      "17\n",
      "19\n",
      "23\n",
      "29\n",
      "31\n",
      "37\n",
      "41\n",
      "43\n",
      "47\n",
      "53\n",
      "59\n",
      "61\n",
      "67\n",
      "71\n",
      "73\n",
      "79\n",
      "83\n",
      "89\n",
      "97\n"
     ]
    }
   ],
   "source": [
    "'''3. Write a python script to print all Prime numbers under 100'''\n",
    "num=100\n",
    "for i in range(2, num+1):\n",
    "    denom=1\n",
    "    count=0\n",
    "    while denom<=i:\n",
    "        if i % denom==0:\n",
    "            count+=1\n",
    "        denom+=1\n",
    "    if count==2:\n",
    "        print(i)    \n",
    "            \n",
    "\n",
    "\n"
   ]
  },
  {
   "cell_type": "code",
   "execution_count": 19,
   "metadata": {},
   "outputs": [
    {
     "name": "stdout",
     "output_type": "stream",
     "text": [
      "23\n",
      "29\n"
     ]
    }
   ],
   "source": [
    "'''4. Write a python script to print all Prime numbers between two given numbers (both\n",
    "values inclusive)'''\n",
    "num1= int(input(\"enter a frist number\"))\n",
    "num2= int(input(\"eneter a second number \"))\n",
    "for i in range(num1,num2+1):\n",
    "    denom=1\n",
    "    count=0\n",
    "    while denom<=i:\n",
    "        if i%denom==0:\n",
    "            count+=1\n",
    "        denom+=1\n",
    "    if count==2:\n",
    "        print(i)\n"
   ]
  },
  {
   "cell_type": "code",
   "execution_count": 26,
   "metadata": {},
   "outputs": [
    {
     "name": "stdout",
     "output_type": "stream",
     "text": [
      "7\n"
     ]
    }
   ],
   "source": [
    "'''5. Write a python script to find next prime number of a given number'''\n",
    "num=int(input(\"enter a number\"))\n",
    "num2=num+1\n",
    "while True:\n",
    "    count=0\n",
    "    i=1\n",
    "\n",
    "    while i<=num2:\n",
    "        if num2%i==0:\n",
    "            count+=1\n",
    "        i+=1\n",
    "    if count==2:\n",
    "        print(num2)\n",
    "        break\n",
    "    num2+=1\n",
    "\n",
    "\n",
    "      \n",
    "   \n",
    "       \n",
    "\n"
   ]
  },
  {
   "cell_type": "code",
   "execution_count": 29,
   "metadata": {},
   "outputs": [
    {
     "name": "stdout",
     "output_type": "stream",
     "text": [
      "2\n",
      "3\n",
      "5\n",
      "7\n",
      "11\n",
      "13\n",
      "17\n",
      "19\n",
      "23\n",
      "29\n",
      "31\n"
     ]
    }
   ],
   "source": [
    "'''6. Write a python script to print first N prime numbers'''\n",
    "num=int(input(\"enter a number\"))\n",
    "\n",
    "for i in range(2,num+1):\n",
    "    count=0\n",
    "    denom=1\n",
    "\n",
    "    while denom<=i:\n",
    "        if i%denom==0:\n",
    "            count+=1\n",
    "        denom+=1\n",
    "    if count==2:\n",
    "        print(i)\n",
    "\n"
   ]
  },
  {
   "cell_type": "code",
   "execution_count": 33,
   "metadata": {},
   "outputs": [
    {
     "name": "stdout",
     "output_type": "stream",
     "text": [
      "False\n"
     ]
    }
   ],
   "source": [
    "'''7. Write a python script to check whether a given pair of numbers are co-Prime\n",
    "numbers or not.'''\n",
    "n1=int(input('enter a number'))\n",
    "n2=int(input('enter another number'))\n",
    "sol=True\n",
    "denom=2\n",
    "while denom<=max(n1,n2):\n",
    "\n",
    "    if (n1%denom==0) and (n2%denom==0):\n",
    "         sol=False\n",
    "    break \n",
    "print(sol)\n"
   ]
  },
  {
   "cell_type": "code",
   "execution_count": 39,
   "metadata": {},
   "outputs": [
    {
     "name": "stdout",
     "output_type": "stream",
     "text": [
      "0\n",
      "1\n",
      "1\n",
      "2\n",
      "3\n",
      "5\n",
      "8\n",
      "13\n",
      "21\n",
      "34\n",
      "55\n",
      "89\n"
     ]
    }
   ],
   "source": [
    "'''8. Write a python script to print first N terms of a Fibonacci series'''\n",
    "num=int(input(\"enter a number\"))\n",
    "n1=0\n",
    "n2=1\n",
    "print(n1,n2,sep='\\n')\n",
    "i=1\n",
    "n3=n1+n2\n",
    "while i<=num:\n",
    "    n3=n1+n2\n",
    "    n1=n2\n",
    "    n2=n3\n",
    "    i+=1\n",
    "    print(n3)\n",
    "\n",
    "\n",
    "\n",
    "\n",
    "\n"
   ]
  },
  {
   "cell_type": "code",
   "execution_count": 7,
   "metadata": {},
   "outputs": [
    {
     "name": "stdout",
     "output_type": "stream",
     "text": [
      "the lcm of 10 and 50 is 50\n"
     ]
    }
   ],
   "source": [
    "'''9. Write a python script to calculate LCM of two numbers'''\n",
    "n1=int(input(\"enter a number\"))\n",
    "n2=int(input(\"enter another number\"))\n",
    "max_num= max(n1,n2)\n",
    "lcm=0\n",
    "while True:\n",
    "\n",
    "    if (max_num%n1==0) and (max_num%n2==0):\n",
    "        lcm=max_num\n",
    "        break\n",
    "    max_num+=1\n",
    "print(f\"the lcm of {n1} and {n2} is {lcm}\")\n",
    "\n",
    "\n",
    "\n",
    "\n"
   ]
  },
  {
   "cell_type": "code",
   "execution_count": 9,
   "metadata": {},
   "outputs": [
    {
     "name": "stdout",
     "output_type": "stream",
     "text": [
      "the hcf of 5 and 25 is 5\n"
     ]
    }
   ],
   "source": [
    "'''10. Write a python script to calculate HCF of two numbers'''\n",
    "n1=int(input(\"enter a number\"))\n",
    "n2=int(input(\"enter another number\"))\n",
    "min_num=min(n1,n2)\n",
    "hcf=0\n",
    "while 1<=min_num:\n",
    "    if (n1%min_num==0) and (n2%min_num==0):\n",
    "        hcf=min_num\n",
    "        break\n",
    "    min_num-=1\n",
    "print(f\"the hcf of {n1} and {n2} is {hcf}\")"
   ]
  },
  {
   "cell_type": "code",
   "execution_count": null,
   "metadata": {},
   "outputs": [],
   "source": []
  }
 ],
 "metadata": {
  "kernelspec": {
   "display_name": "Python 3",
   "language": "python",
   "name": "python3"
  },
  "language_info": {
   "codemirror_mode": {
    "name": "ipython",
    "version": 3
   },
   "file_extension": ".py",
   "mimetype": "text/x-python",
   "name": "python",
   "nbconvert_exporter": "python",
   "pygments_lexer": "ipython3",
   "version": "3.10.6"
  },
  "orig_nbformat": 4
 },
 "nbformat": 4,
 "nbformat_minor": 2
}
