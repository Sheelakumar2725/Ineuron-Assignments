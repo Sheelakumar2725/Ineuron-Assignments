{
 "cells": [
  {
   "cell_type": "code",
   "execution_count": 3,
   "metadata": {},
   "outputs": [
    {
     "name": "stdout",
     "output_type": "stream",
     "text": [
      "[1, 2, 3, 4, 5, 6, 7, 8, 9, 10, 11, 12, 13, 14, 15, 16, 17, 18, 19, 20, 21, 22, 23, 24, 25]\n"
     ]
    }
   ],
   "source": [
    "'''1. Write a Python script to create a list of first N natural numbers.'''\n",
    "n=int(input(\"enter a number\"))\n",
    "N_num=[]\n",
    "i=1\n",
    "while i<=n:\n",
    "    N_num.append(i)\n",
    "    i+=1\n",
    "print(N_num)\n",
    "\n",
    "\n"
   ]
  },
  {
   "cell_type": "code",
   "execution_count": 4,
   "metadata": {},
   "outputs": [
    {
     "name": "stdout",
     "output_type": "stream",
     "text": [
      "[1, 3, 5, 7, 9, 11, 13, 15, 17, 19, 21]\n"
     ]
    }
   ],
   "source": [
    "'''2. Write a Python script to create a list of first N odd natural numbers.'''\n",
    "n=int(input(\"enter a number\"))\n",
    "N_num=[]\n",
    "i=1\n",
    "while i<=n:\n",
    "    if i% 2!=0:\n",
    "        N_num.append(i)\n",
    "    i+=1\n",
    "print(N_num)    \n"
   ]
  },
  {
   "cell_type": "code",
   "execution_count": 1,
   "metadata": {},
   "outputs": [
    {
     "name": "stdout",
     "output_type": "stream",
     "text": [
      "[2, 4, 6, 8, 10, 12, 14, 16, 18, 20]\n"
     ]
    }
   ],
   "source": [
    "'''3. Write a Python script to create a list of first N even natural numbers.'''\n",
    "n=int(input(\"enter a number\"))\n",
    "N_num=[]\n",
    "i=1\n",
    "while i<=n:\n",
    "    if i% 2==0:\n",
    "        N_num.append(i)\n",
    "    i+=1\n",
    "print(N_num)  "
   ]
  },
  {
   "cell_type": "code",
   "execution_count": 10,
   "metadata": {},
   "outputs": [
    {
     "name": "stdout",
     "output_type": "stream",
     "text": [
      "the greatest number is: 70\n"
     ]
    }
   ],
   "source": [
    "'''4. Write a Python script to find the greatest number in a given list of numbers.'''\n",
    "nums=[20,25,30,45,50,70,35]\n",
    "nums.sort()\n",
    "print(\"the greatest number is:\",nums[6])\n"
   ]
  },
  {
   "cell_type": "code",
   "execution_count": 2,
   "metadata": {},
   "outputs": [
    {
     "name": "stdout",
     "output_type": "stream",
     "text": [
      "the smallest num is: 20\n"
     ]
    }
   ],
   "source": [
    "'''5. Write a Python script to find the smallest number in a given list of numbers.'''\n",
    "num_list=list(map(int,input(\"enter the numbers\").rstrip().split(',')))\n",
    "smallest_num=num_list[0]\n",
    "for number in num_list:\n",
    "    if number < smallest_num:\n",
    "        smallest_num=number\n",
    "print(\"the smallest num is:\",smallest_num)\n",
    "\n"
   ]
  },
  {
   "cell_type": "code",
   "execution_count": 3,
   "metadata": {},
   "outputs": [
    {
     "name": "stdout",
     "output_type": "stream",
     "text": [
      "58\n"
     ]
    }
   ],
   "source": [
    "'''6. Write a Python script to calculate the sum of elements in a given list of numbers.'''\n",
    "num_list=list(map(int,input(\"enter the numbers\").rstrip().split(',')))\n",
    "total=sum(num_list)\n",
    "print(total)"
   ]
  },
  {
   "cell_type": "code",
   "execution_count": 6,
   "metadata": {},
   "outputs": [
    {
     "name": "stdout",
     "output_type": "stream",
     "text": [
      "Filtered list: []\n"
     ]
    }
   ],
   "source": [
    "'''7. Write a Python script to remove all non int values from a list.'''\n",
    "values = input(\"Enter the list of values separated by commas: \").rstrip().split(',')\n",
    "filtered_values = [int(num) for num in values if isinstance(num, int)]\n",
    "print(\"Filtered list:\", filtered_values)\n"
   ]
  },
  {
   "cell_type": "code",
   "execution_count": 4,
   "metadata": {},
   "outputs": [
    {
     "name": "stdout",
     "output_type": "stream",
     "text": [
      "--------Else block---------\n",
      "4 element added as key in hash \n",
      " updated hash is {4: 1}\n",
      "-----------If block--------\n",
      "count of 4 is 2\n",
      "-----------If block--------\n",
      "count of 4 is 3\n",
      "--------Else block---------\n",
      "5 element added as key in hash \n",
      " updated hash is {4: 3, 5: 1}\n",
      "-----------If block--------\n",
      "count of 5 is 2\n",
      "-----------If block--------\n",
      "count of 5 is 3\n",
      "--------Else block---------\n",
      "78 element added as key in hash \n",
      " updated hash is {4: 3, 5: 3, 78: 1}\n",
      "--------Else block---------\n",
      "9 element added as key in hash \n",
      " updated hash is {4: 3, 5: 3, 78: 1, 9: 1}\n",
      "--------Else block---------\n",
      "6 element added as key in hash \n",
      " updated hash is {4: 3, 5: 3, 78: 1, 9: 1, 6: 1}\n",
      "--------Else block---------\n",
      "33 element added as key in hash \n",
      " updated hash is {4: 3, 5: 3, 78: 1, 9: 1, 6: 1, 33: 1}\n",
      "-----------If block--------\n",
      "count of 33 is 2\n",
      "--------Else block---------\n",
      "45 element added as key in hash \n",
      " updated hash is {4: 3, 5: 3, 78: 1, 9: 1, 6: 1, 33: 2, 45: 1}\n",
      "-----------If block--------\n",
      "count of 45 is 2\n",
      "4 : 3\n",
      "5 : 3\n",
      "78 : 1\n",
      "9 : 1\n",
      "6 : 1\n",
      "33 : 2\n",
      "45 : 2\n"
     ]
    }
   ],
   "source": [
    "'''8. Write a Python script to print distinct elements along with their frequencies of\n",
    "occurrence in the list.'''\n",
    "l=[4,4,4,5,5,5,78,9,6,33,33,45,45]\n",
    "hash={}\n",
    "for i in range(len(l)):\n",
    "\n",
    "    if l[i] in hash:\n",
    "        print(\"-----------If block--------\")\n",
    "        hash[l[i]]+=1\n",
    "        print(\"count of {} is\".format(l[i]),hash[l[i]])\n",
    "    else:\n",
    "        print('--------Else block---------')\n",
    "        hash[l[i]]=1\n",
    "        print(f\"{l[i]} element added as key in hash \\n updated hash is {hash}\")\n",
    "\n",
    "for key in hash:\n",
    "    print(key,\":\",hash[key])"
   ]
  },
  {
   "cell_type": "code",
   "execution_count": 7,
   "metadata": {},
   "outputs": [
    {
     "name": "stdout",
     "output_type": "stream",
     "text": [
      "2\n",
      "4\n"
     ]
    }
   ],
   "source": [
    "'''9. Write a Python script to print indices of all occurrences of a given element in a given\n",
    "list.'''\n",
    "l=[50,60,25,36,25,60]\n",
    "given=25\n",
    "for index in range(len(l)):\n",
    "    if l[index]==given:\n",
    "        print(index)\n",
    "\n"
   ]
  },
  {
   "cell_type": "code",
   "execution_count": 14,
   "metadata": {},
   "outputs": [
    {
     "name": "stdout",
     "output_type": "stream",
     "text": [
      "[4, 5, 5, 51, 51, 51, 65, 78, 87, 588, 654, 854, 215688]\n"
     ]
    }
   ],
   "source": [
    "'''10.Write a python script to sort a list.'''\n",
    "l=[4,654,854,51,87,51,78,215688,51,588,5,65,5]\n",
    "l.sort()\n",
    "print(l)"
   ]
  },
  {
   "cell_type": "code",
   "execution_count": null,
   "metadata": {},
   "outputs": [],
   "source": []
  }
 ],
 "metadata": {
  "kernelspec": {
   "display_name": "Python 3",
   "language": "python",
   "name": "python3"
  },
  "language_info": {
   "codemirror_mode": {
    "name": "ipython",
    "version": 3
   },
   "file_extension": ".py",
   "mimetype": "text/x-python",
   "name": "python",
   "nbconvert_exporter": "python",
   "pygments_lexer": "ipython3",
   "version": "3.10.6"
  },
  "orig_nbformat": 4
 },
 "nbformat": 4,
 "nbformat_minor": 2
}
