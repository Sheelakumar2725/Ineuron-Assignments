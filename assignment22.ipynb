{
 "cells": [
  {
   "cell_type": "code",
   "execution_count": 3,
   "metadata": {},
   "outputs": [
    {
     "data": {
      "text/plain": [
       "55"
      ]
     },
     "execution_count": 3,
     "metadata": {},
     "output_type": "execute_result"
    }
   ],
   "source": [
    "'''1. Write a recursive python function to calculate sum of first N natural numbers'''\n",
    "def sum_natural(n):\n",
    "    if n==1:\n",
    "        return 1\n",
    "    else:\n",
    "       s=n+sum_natural(n-1)\n",
    "       return s\n",
    "    \n",
    "         \n",
    "sum_natural(int(input()))\n"
   ]
  },
  {
   "cell_type": "code",
   "execution_count": 15,
   "metadata": {},
   "outputs": [
    {
     "data": {
      "text/plain": [
       "25"
      ]
     },
     "execution_count": 15,
     "metadata": {},
     "output_type": "execute_result"
    }
   ],
   "source": [
    "'''2. Write a recursive python function to calculate sum of first N odd natural numbers'''\n",
    "def func(n,sol=1):\n",
    "    \n",
    "    \n",
    "    if n==0:\n",
    "        return 0\n",
    "    \n",
    "    return sol+func(n-1,sol+2)\n",
    "func(5)\n"
   ]
  },
  {
   "cell_type": "code",
   "execution_count": 17,
   "metadata": {},
   "outputs": [
    {
     "data": {
      "text/plain": [
       "420"
      ]
     },
     "execution_count": 17,
     "metadata": {},
     "output_type": "execute_result"
    }
   ],
   "source": [
    "'''3. Write a recursive python function to calculate sum of first N even natural numbers'''\n",
    "def sum_even(n,sol=2):\n",
    "\n",
    "    if n==1:\n",
    "        return sol\n",
    "    else:\n",
    "        return sol+sum_even(n-1,sol+2)\n",
    "sum_even(int(input()))"
   ]
  },
  {
   "cell_type": "code",
   "execution_count": 37,
   "metadata": {},
   "outputs": [
    {
     "name": "stdout",
     "output_type": "stream",
     "text": [
      "5 1\n",
      "4 2\n",
      "3 3\n",
      "2 4\n",
      "1 5\n",
      "0 6\n",
      "the sum of squares of n numbers is 55\n"
     ]
    }
   ],
   "source": [
    "'''4. Write a recursive python function to calculate sum of squares of first N natural\n",
    "numbers'''\n",
    "def sum_square(n,sol=1):\n",
    "    print(n,sol)\n",
    "    if n==0:\n",
    "        return 0\n",
    "    else:\n",
    "        return (sol**2)+sum_square(n-1,sol+1)\n",
    "    \n",
    "print(\"the sum of squares of n numbers is\",sum_square(int(input())))"
   ]
  },
  {
   "cell_type": "code",
   "execution_count": 38,
   "metadata": {},
   "outputs": [
    {
     "name": "stdout",
     "output_type": "stream",
     "text": [
      "5 1\n",
      "4 2\n",
      "3 3\n",
      "2 4\n",
      "1 5\n",
      "0 6\n",
      "the sum of cubes of n numbers is 225\n"
     ]
    }
   ],
   "source": [
    "'''5. Write a recursive python function to calculate sum of cubes of first N natural numbers'''\n",
    "def sum_cubes(n,sol=1):\n",
    "    print(n,sol)\n",
    "    if n==0:\n",
    "        return 0\n",
    "    else :\n",
    "        return (sol**3) + sum_cubes(n-1,sol+1)\n",
    "print(\"the sum of cubes of n numbers is\",sum_cubes(int(input())))"
   ]
  },
  {
   "cell_type": "code",
   "execution_count": 40,
   "metadata": {},
   "outputs": [
    {
     "name": "stdout",
     "output_type": "stream",
     "text": [
      "the factorial of given number is : 6\n"
     ]
    }
   ],
   "source": [
    "'''6. Write a recursive python function to calculate the factorial of a number.'''\n",
    "def fact(n):\n",
    "    if n==1:\n",
    "        return 1\n",
    "    else:\n",
    "        return n*fact(n-1)\n",
    "print(\"the factorial of given number is :\",fact(int(input())))"
   ]
  },
  {
   "cell_type": "code",
   "execution_count": 51,
   "metadata": {},
   "outputs": [
    {
     "name": "stdout",
     "output_type": "stream",
     "text": [
      "0 5\n",
      "the sum of given number is: 5\n"
     ]
    }
   ],
   "source": [
    "'''7. Write a recursive python function to calculate sum of the digits of a given number'''\n",
    "def sum_digits(n,sol=0):\n",
    "    \n",
    "    if n==0:\n",
    "        return 0\n",
    "    else:\n",
    "        sol=n%10\n",
    "        n=n//10\n",
    "        print(n,sol)\n",
    "        return sol+sum_digits(n)\n",
    "print(\"the sum of given number is:\",sum_digits(int(input())))\n"
   ]
  },
  {
   "cell_type": "code",
   "execution_count": 52,
   "metadata": {},
   "outputs": [
    {
     "name": "stdout",
     "output_type": "stream",
     "text": [
      "Binary representation of 10 is: 1010"
     ]
    }
   ],
   "source": [
    "'''8. Write a recursive python function to print binary of a given decimal number.'''\n",
    "def decimal_to_binary(decimal):\n",
    "    if decimal > 1:\n",
    "        decimal_to_binary(decimal // 2) \n",
    "    print(decimal % 2, end='')\n",
    "\n",
    "\n",
    "decimal_number = 10\n",
    "print(\"Binary representation of\", decimal_number, \"is:\", end=' ')\n",
    "decimal_to_binary(decimal_number)\n"
   ]
  },
  {
   "cell_type": "code",
   "execution_count": 54,
   "metadata": {},
   "outputs": [
    {
     "name": "stdout",
     "output_type": "stream",
     "text": [
      "Octal representation of 27 is: 033"
     ]
    }
   ],
   "source": [
    "'''9. Write a recursive python function to print octal of a given decimal number'''\n",
    "def decimal_to_octal(decimal):\n",
    "    if decimal > 0:\n",
    "        decimal_to_octal(decimal // 8) \n",
    "    print(decimal % 8, end='')\n",
    "\n",
    "\n",
    "decimal_number = 27\n",
    "print(\"Octal representation of\", decimal_number, \"is:\", end=' ')\n",
    "decimal_to_octal(decimal_number)\n",
    "\n"
   ]
  },
  {
   "cell_type": "code",
   "execution_count": 57,
   "metadata": {},
   "outputs": [
    {
     "name": "stdout",
     "output_type": "stream",
     "text": [
      "The 10 th term of the Fibonacci series is: 34\n"
     ]
    }
   ],
   "source": [
    "'''10. Write a recursive python function to find the Nth term of the Fibonacci series.'''\n",
    "def fibonacci(n):\n",
    "    if n <= 0:\n",
    "        raise ValueError(\"N must be a positive integer.\")\n",
    "    if n == 1:\n",
    "        return 0\n",
    "    elif n == 2:\n",
    "        return 1\n",
    "    else:\n",
    "        return fibonacci(n - 1) + fibonacci(n - 2)\n",
    "\n",
    "\n",
    "n = 10\n",
    "nth_term = fibonacci(n)\n",
    "print(\"The\", n, \"th term of the Fibonacci series is:\", nth_term)\n",
    "\n"
   ]
  },
  {
   "cell_type": "code",
   "execution_count": null,
   "metadata": {},
   "outputs": [],
   "source": []
  }
 ],
 "metadata": {
  "kernelspec": {
   "display_name": "Python 3",
   "language": "python",
   "name": "python3"
  },
  "language_info": {
   "codemirror_mode": {
    "name": "ipython",
    "version": 3
   },
   "file_extension": ".py",
   "mimetype": "text/x-python",
   "name": "python",
   "nbconvert_exporter": "python",
   "pygments_lexer": "ipython3",
   "version": "3.10.6"
  },
  "orig_nbformat": 4
 },
 "nbformat": 4,
 "nbformat_minor": 2
}
