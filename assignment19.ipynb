{
 "cells": [
  {
   "cell_type": "code",
   "execution_count": 3,
   "metadata": {},
   "outputs": [
    {
     "name": "stdout",
     "output_type": "stream",
     "text": [
      "MySirG\n"
     ]
    }
   ],
   "source": [
    "'''1. Write a python program to create a simple function which prints “MySirG” .'''\n",
    "def func():\n",
    "    \n",
    "    print(\"MySirG\")\n",
    "    \n",
    "func()\n"
   ]
  },
  {
   "cell_type": "code",
   "execution_count": 5,
   "metadata": {},
   "outputs": [
    {
     "name": "stdout",
     "output_type": "stream",
     "text": [
      "sheela  harsha\n"
     ]
    }
   ],
   "source": [
    "'''2. Write a python program to create a function which expects two arguments and print\n",
    "them in the function body.'''\n",
    "def func_arg(a=input(),b=input()):\n",
    "    print(a,b)\n",
    "func_arg()"
   ]
  },
  {
   "cell_type": "code",
   "execution_count": 14,
   "metadata": {},
   "outputs": [
    {
     "name": "stdout",
     "output_type": "stream",
     "text": [
      "<class 'tuple'>\n",
      "5\n",
      "1\n",
      "2\n",
      "5\n",
      "13\n"
     ]
    }
   ],
   "source": [
    "'''3. Write a python program to create a function which expects an unknown number of\n",
    "arguments.'''\n",
    "def fun_unkown(*args):\n",
    "    print(type(args))\n",
    "    for i in args:\n",
    "        print(i)\n",
    "    print(sum(args))\n",
    "    \n",
    "\n",
    "\n",
    "fun_unkown(5,1,2,5)\n"
   ]
  },
  {
   "cell_type": "code",
   "execution_count": 3,
   "metadata": {},
   "outputs": [
    {
     "name": "stdout",
     "output_type": "stream",
     "text": [
      "name: John\n",
      "age: 30\n",
      "city: New York\n"
     ]
    }
   ],
   "source": [
    "'''4. Write a python program to create a function which expects kwargs arguments.'''\n",
    "def func_kwargs(**kwargs):\n",
    "    for key, value in kwargs.items():\n",
    "        print(f\"{key}: {value}\")\n",
    "\n",
    "#\n",
    "func_kwargs(name=\"John\", age=30, city=\"New York\")\n"
   ]
  },
  {
   "cell_type": "code",
   "execution_count": 7,
   "metadata": {},
   "outputs": [
    {
     "name": "stdout",
     "output_type": "stream",
     "text": [
      "20\n",
      "41\n",
      "14\n",
      "10\n",
      "54\n",
      "32\n"
     ]
    }
   ],
   "source": [
    "'''5. Write a python program to create a function which expects a list as an argument.'''\n",
    "def func_list(lst):\n",
    "    for item in lst:\n",
    "        print(item)\n",
    "\n",
    "my_lst=[20,41,14,10,54,32]\n",
    "func_list(my_lst)\n",
    "\n",
    "\n"
   ]
  },
  {
   "cell_type": "code",
   "execution_count": 11,
   "metadata": {},
   "outputs": [
    {
     "name": "stdout",
     "output_type": "stream",
     "text": [
      "the maximum numberis :95\n"
     ]
    }
   ],
   "source": [
    "'''6. Write a python program to create a function that finds a maximum of four numbers.'''\n",
    "def func_max(a,b,c,d):\n",
    "    maximum_number=max(a,b,c,d)\n",
    "    return maximum_number\n",
    "l1=24\n",
    "l2=15\n",
    "l3=45\n",
    "l4=95\n",
    "maximum_number=func_max(l1,l2,l3,l4)\n",
    "print(f\"the maximum numberis :{maximum_number}\")\n",
    "\n"
   ]
  },
  {
   "cell_type": "code",
   "execution_count": 15,
   "metadata": {},
   "outputs": [
    {
     "name": "stdout",
     "output_type": "stream",
     "text": [
      "the sum of my_list is :150\n"
     ]
    }
   ],
   "source": [
    "'''7. Write a python program to sum all the numbers in a list.'''\n",
    "\n",
    "def func_sum(lst):\n",
    "    s=sum(lst)\n",
    "    return s\n",
    "\n",
    "my_list=[10,20,30,40,50]\n",
    "s=func_sum(my_list)\n",
    "print(f\"the sum of my_list is :{s}\")"
   ]
  },
  {
   "cell_type": "code",
   "execution_count": 23,
   "metadata": {},
   "outputs": [
    {
     "name": "stdout",
     "output_type": "stream",
     "text": [
      "the product of m :3840\n"
     ]
    }
   ],
   "source": [
    "'''8. Write a python program to multiply all the numbers in a list.'''\n",
    "\n",
    "def func_mult(lst):\n",
    "    sol=1\n",
    "    for i in lst:\n",
    "        sol=sol*i\n",
    "    return sol\n",
    "\n",
    "\n",
    "m=[2,4,6,8,10]\n",
    "sol=func_mult(m)\n",
    "print(f\"the product of m :{sol}\")"
   ]
  },
  {
   "cell_type": "code",
   "execution_count": 29,
   "metadata": {},
   "outputs": [
    {
     "name": "stdout",
     "output_type": "stream",
     "text": [
      "the given number is not within range of 250\n"
     ]
    }
   ],
   "source": [
    "'''9. Write a python program to create a function to check whether a number falls in a\n",
    "given range.'''\n",
    "def func_range(a):\n",
    "     r=250\n",
    "     if num<=r:\n",
    "        print(f\"the given number is within range of {r}\")\n",
    "     else :\n",
    "         print(f\"the given number is not within range of {r}\")\n",
    "\n",
    "\n",
    "\n",
    "num=int(input(\"enter a number:\"))\n",
    "func_range(num)\n",
    "\n"
   ]
  },
  {
   "cell_type": "code",
   "execution_count": 33,
   "metadata": {},
   "outputs": [
    {
     "name": "stdout",
     "output_type": "stream",
     "text": [
      "the given number 45 is odd\n"
     ]
    }
   ],
   "source": [
    "'''10. Write a python program to create a function to check whether a given number is even\n",
    "or odd.'''\n",
    "def func_ev_od(a):\n",
    "    if a % 2==0:\n",
    "        print(f\"the given number {a} is even\")\n",
    "    else :\n",
    "        print(f\"the given number {a} is odd\")\n",
    "\n",
    "num=int(input(\"enter a number\"))\n",
    "func_ev_od(num)\n",
    "    \n",
    "    "
   ]
  },
  {
   "cell_type": "code",
   "execution_count": null,
   "metadata": {},
   "outputs": [],
   "source": []
  }
 ],
 "metadata": {
  "kernelspec": {
   "display_name": "Python 3",
   "language": "python",
   "name": "python3"
  },
  "language_info": {
   "codemirror_mode": {
    "name": "ipython",
    "version": 3
   },
   "file_extension": ".py",
   "mimetype": "text/x-python",
   "name": "python",
   "nbconvert_exporter": "python",
   "pygments_lexer": "ipython3",
   "version": "3.10.6"
  },
  "orig_nbformat": 4
 },
 "nbformat": 4,
 "nbformat_minor": 2
}
