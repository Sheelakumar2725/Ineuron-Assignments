{
 "cells": [
  {
   "cell_type": "code",
   "execution_count": 1,
   "metadata": {},
   "outputs": [
    {
     "name": "stdout",
     "output_type": "stream",
     "text": [
      "['Java', 'Python', 'SQL', 'C']\n"
     ]
    }
   ],
   "source": [
    "#1. Write a python script to store multiple items in a single variable ( Items are “Java”\n",
    "#,“Python”, “SQL”, “C” ) using list.\n",
    "coding__lang=[\"Java\",\"Python\",\"SQL\",\"C\"]\n",
    "print(coding__lang)"
   ]
  },
  {
   "cell_type": "code",
   "execution_count": 4,
   "metadata": {},
   "outputs": [
    {
     "name": "stdout",
     "output_type": "stream",
     "text": [
      "<class 'list'>\n",
      "<class 'int'>\n"
     ]
    }
   ],
   "source": [
    "#2. Write a python script to get the data type of a list.\n",
    "list=[1,2,3,4,5]\n",
    "print(type(list))\n",
    "print(type(list[0]))"
   ]
  },
  {
   "cell_type": "code",
   "execution_count": 5,
   "metadata": {},
   "outputs": [
    {
     "name": "stdout",
     "output_type": "stream",
     "text": [
      "Python\n"
     ]
    }
   ],
   "source": [
    "#3. Write a python script to get the last item of the list ( mylist = [\"Java\", \"C\", \"Python\"])\n",
    "mylist=[\"java\",\"c\",\"Python\"]\n",
    "print(mylist[2])"
   ]
  },
  {
   "cell_type": "code",
   "execution_count": 9,
   "metadata": {},
   "outputs": [
    {
     "name": "stdout",
     "output_type": "stream",
     "text": [
      "['Java', 'NoSQL', 'C', 'Flutter', 'Javascript', 'Python']\n"
     ]
    }
   ],
   "source": [
    "'''4. Write a python script to Change the values \"SQL\" and \"Reactnative\" with the values\n",
    "\"NoSQL\" and \"Flutter\" (List is thislist = [\"Java\", \"SQL\", \"C\", \"Reactnative\",\n",
    "\"Javascript\", \"Python\"]'''\n",
    "thislist = [\"Java\", \"SQL\", \"C\", \"Reactnative\",\"Javascript\", \"Python\"]\n",
    "thislist.remove(\"SQL\")\n",
    "thislist.remove(\"Reactnative\")\n",
    "thislist.insert(1,\"NoSQL\")\n",
    "thislist.insert(3,\"Flutter\")\n",
    "print(thislist)\n",
    "\n"
   ]
  },
  {
   "cell_type": "code",
   "execution_count": 11,
   "metadata": {},
   "outputs": [
    {
     "name": "stdout",
     "output_type": "stream",
     "text": [
      "['Java', 'SQL', 'C', 'Reactnative', 'Python']\n"
     ]
    }
   ],
   "source": [
    "'''5. Write a python script to add an item to the end of the list (item “Python”. (mylist =\n",
    "[\"Java\", \"SQL\", \"C\", \"Reactnative\"]'''\n",
    "mylist =[\"Java\", \"SQL\", \"C\", \"Reactnative\"]\n",
    "mylist.append(\"Python\")\n",
    "print(mylist)\n"
   ]
  },
  {
   "cell_type": "code",
   "execution_count": 13,
   "metadata": {},
   "outputs": [
    {
     "name": "stdout",
     "output_type": "stream",
     "text": [
      "['Java', 'Python', 'SQL', 'C', 'Cpp', 'NoSQL']\n"
     ]
    }
   ],
   "source": [
    "'''6. Write a python program to append elements from another list to the current list.(\n",
    "firstlist = [\"Java\", \"Python\", \"SQL\"]\n",
    "secondlist = [\"C\", \"Cpp\", \"NoSQL\"] )'''\n",
    "firstlist = [\"Java\", \"Python\", \"SQL\"]\n",
    "secondlist = [\"C\", \"Cpp\", \"NoSQL\"]\n",
    "firstlist.extend(secondlist)\n",
    "print(firstlist)"
   ]
  },
  {
   "cell_type": "code",
   "execution_count": 22,
   "metadata": {},
   "outputs": [
    {
     "name": "stdout",
     "output_type": "stream",
     "text": [
      "0 = Java\n",
      "1 = SQL\n",
      "2 = C\n",
      "3 = Reactnative\n",
      "4 = Javascript\n",
      "5 = Python\n"
     ]
    }
   ],
   "source": [
    "'''7. Write a python program to Print all items by referring to their index number (thislist =\n",
    "[\"Java\", \"SQL\", \"C\", \"Reactnative\", \"Javascript\", \"Python\"]'''\n",
    "thislist =[\"Java\", \"SQL\", \"C\", \"Reactnative\", \"Javascript\", \"Python\"]\n",
    "i=0\n",
    "while i<=5:\n",
    "    print(i,\"=\",thislist[i])\n",
    "    i+=1\n"
   ]
  },
  {
   "cell_type": "code",
   "execution_count": 24,
   "metadata": {},
   "outputs": [
    {
     "name": "stdout",
     "output_type": "stream",
     "text": [
      "['C', 'Java', 'Javascript', 'Python', 'Reactjs', 'SQL']\n"
     ]
    }
   ],
   "source": [
    "'''8. Write a python program to sort the list alphanumerically – thislist = [\"Java\", \"SQL\",\n",
    "\"C\", \"Reactjs\", \"Javascript\", \"Python\"]'''\n",
    "thislist = [\"Java\", \"SQL\",\"C\", \"Reactjs\", \"Javascript\", \"Python\"]\n",
    "thislist.sort(key=ascii)\n",
    "print(thislist)"
   ]
  },
  {
   "cell_type": "code",
   "execution_count": 56,
   "metadata": {},
   "outputs": [],
   "source": [
    "'''9. Write a Python script to create a list of city names taken from the user.'''\n",
    "city_list = []\n",
    "    \n",
    "while True:\n",
    "    city = input(\"Enter a city name (or 'done' to finish): \")\n",
    "        \n",
    "    if city.lower() == \"done\":\n",
    "        break\n",
    "    city_list.append(city)\n",
    "print(city_list)"
   ]
  },
  {
   "cell_type": "code",
   "execution_count": 52,
   "metadata": {},
   "outputs": [
    {
     "name": "stdout",
     "output_type": "stream",
     "text": [
      "[1, 2, 3, 4, 5, 6]\n"
     ]
    }
   ],
   "source": [
    "'''10. Write a Python script to create a list, where each element of the list is a digit of a\n",
    "given number.'''\n",
    "l1=int(input(\"enter a digit\"))\n",
    "l1_str=str(l1)\n",
    "digits=[]\n",
    "for i in l1_str:\n",
    "   digits.append(int(i))\n",
    "print(digits)"
   ]
  },
  {
   "cell_type": "code",
   "execution_count": null,
   "metadata": {},
   "outputs": [],
   "source": []
  },
  {
   "cell_type": "code",
   "execution_count": null,
   "metadata": {},
   "outputs": [],
   "source": []
  }
 ],
 "metadata": {
  "kernelspec": {
   "display_name": "Python 3",
   "language": "python",
   "name": "python3"
  },
  "language_info": {
   "codemirror_mode": {
    "name": "ipython",
    "version": 3
   },
   "file_extension": ".py",
   "mimetype": "text/x-python",
   "name": "python",
   "nbconvert_exporter": "python",
   "pygments_lexer": "ipython3",
   "version": "3.10.6"
  },
  "orig_nbformat": 4
 },
 "nbformat": 4,
 "nbformat_minor": 2
}
