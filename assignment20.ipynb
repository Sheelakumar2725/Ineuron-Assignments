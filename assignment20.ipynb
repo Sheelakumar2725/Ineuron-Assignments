{
 "cells": [
  {
   "cell_type": "code",
   "execution_count": 1,
   "metadata": {},
   "outputs": [
    {
     "name": "stdout",
     "output_type": "stream",
     "text": [
      "the uniqiue_lst of my_list is:  [36, 69, 45, 78, 15, 20]\n"
     ]
    }
   ],
   "source": [
    "'''1. Write a python program to create a function that takes a list and returns a new list\n",
    "with the original list's unique elements.'''\n",
    "def func_lst(l):\n",
    "    uniqiue_lst=list(set(l))\n",
    "    return uniqiue_lst\n",
    "\n",
    "my_list=[20,20,45,36,45,78,15,69]\n",
    "print(\"the uniqiue_lst of my_list is: \",func_lst(my_list))\n"
   ]
  },
  {
   "cell_type": "code",
   "execution_count": 7,
   "metadata": {},
   "outputs": [
    {
     "name": "stdout",
     "output_type": "stream",
     "text": [
      "the given number is not a prime number\n"
     ]
    }
   ],
   "source": [
    "'''2. Write a python program to create a function that takes a number as a parameter and\n",
    "checks if the number is prime or not.'''\n",
    "def func_prime(a):\n",
    "    count=0\n",
    "    i=1\n",
    "    while i<=a:\n",
    "        if a%i==0:\n",
    "            count+=1\n",
    "        i+=1\n",
    "    if count==2:\n",
    "        print(f\"the given number {a} is prime number \")\n",
    "    else :\n",
    "        print(\"the given number is not a prime number\")\n",
    "func_prime(int(input(\"enter a number\")))"
   ]
  },
  {
   "cell_type": "code",
   "execution_count": 15,
   "metadata": {},
   "outputs": [
    {
     "name": "stdout",
     "output_type": "stream",
     "text": [
      "the even numbers of given list are:\n",
      "2\n",
      "4\n",
      "6\n",
      "8\n"
     ]
    }
   ],
   "source": [
    "'''3. Write a python program to create a function that prints the even numbers from a\n",
    "given list.\n",
    "Sample List : [1, 2, 3, 4, 5, 6, 7, 8, 9]'''\n",
    "def func_even(lst):\n",
    "    print(\"the even numbers of given list are:\")\n",
    "    for i in lst:\n",
    "        if i%2==0:\n",
    "            print(i)\n",
    "samplelist=[1,2,3,4,5,6,7,8,9]\n",
    "func_even(samplelist)\n",
    "\n"
   ]
  },
  {
   "cell_type": "code",
   "execution_count": 25,
   "metadata": {},
   "outputs": [
    {
     "name": "stdout",
     "output_type": "stream",
     "text": [
      " it is not a palidrome\n"
     ]
    }
   ],
   "source": [
    "'''4. Write a python program to create a function that checks whether a passed string is\n",
    "palindrome or not.'''\n",
    "def func_palindrome(s):\n",
    "   if s==s[::-1]:\n",
    "    print(f\"the given string {s} is palindrome\")\n",
    "   else :\n",
    "     print(\" it is not a palidrome\")\n",
    "m=input(\"enter a string\")\n",
    "func_palindrome(m)\n"
   ]
  },
  {
   "cell_type": "code",
   "execution_count": 34,
   "metadata": {},
   "outputs": [
    {
     "name": "stdout",
     "output_type": "stream",
     "text": [
      "the minimum number of given number is 20\n"
     ]
    }
   ],
   "source": [
    "'''5. Write a python program to create a function to find the Min of three numbers.'''\n",
    "def func_min(a,b,c):\n",
    "    minimum_number=min(a,b,c)\n",
    "    print(f\"the minimum number of given number is {minimum_number}\")\n",
    "func_min(20,40,60)"
   ]
  },
  {
   "cell_type": "code",
   "execution_count": 40,
   "metadata": {},
   "outputs": [
    {
     "name": "stdout",
     "output_type": "stream",
     "text": [
      "[1, 4, 9, 16, 25, 36, 49, 64, 81, 100, 121, 144, 169, 196, 225, 256, 289, 324, 361, 400, 441, 484, 529, 576, 625, 676, 729, 784, 841, 900]\n"
     ]
    }
   ],
   "source": [
    "'''6. Write a python program to create a function and print a list where the values are\n",
    "square of numbers between 1 and 30.'''\n",
    "def func_squares():\n",
    "    l=[]\n",
    "    sol=0\n",
    "    for i in range(1,30+1,1):\n",
    "        sol=i**2\n",
    "        l.append(sol)\n",
    "    print(l)\n",
    "func_squares()\n",
    "    \n",
    "        \n"
   ]
  },
  {
   "cell_type": "code",
   "execution_count": 53,
   "metadata": {},
   "outputs": [
    {
     "name": "stdout",
     "output_type": "stream",
     "text": [
      "hello\n",
      "world\n"
     ]
    }
   ],
   "source": [
    "'''7. Write a python program to access a function inside a function.'''\n",
    "def func1():\n",
    "    print(\"hello\")\n",
    "    def func2():\n",
    "        print(\"world\")\n",
    "    func2()\n",
    "func1()\n",
    "\n",
    "  \n"
   ]
  },
  {
   "cell_type": "code",
   "execution_count": 61,
   "metadata": {},
   "outputs": [
    {
     "name": "stdout",
     "output_type": "stream",
     "text": [
      "number of upper case letters are 6\n",
      "number of lower case letters are 0\n"
     ]
    }
   ],
   "source": [
    "'''8. Write a python program to create a function that accepts a string and calculate the\n",
    "number of upper case letters and lower case letters.'''\n",
    "def func_string(a):\n",
    "    l=0\n",
    "    u=0\n",
    "    for i in a:\n",
    "        if i.isupper():\n",
    "            u+=1\n",
    "        else:\n",
    "            l+=1\n",
    "    print(f\"number of upper case letters are {u}\")\n",
    "    print(f\"number of lower case letters are {l}\")\n",
    "func_string(input())\n"
   ]
  },
  {
   "cell_type": "code",
   "execution_count": 62,
   "metadata": {},
   "outputs": [
    {
     "name": "stdout",
     "output_type": "stream",
     "text": [
      "True\n",
      "True\n",
      "False\n"
     ]
    }
   ],
   "source": [
    "'''9. Write a python program to create a function to check whether a string is a pangram\n",
    "or not.'''\n",
    "import string\n",
    "\n",
    "def is_pangram(sentence):\n",
    "    alphabet = set(string.ascii_lowercase)\n",
    "    sentence = sentence.lower()\n",
    "    sentence = ''.join(filter(str.isalpha, sentence))\n",
    "    sentence_letters = set(sentence)\n",
    "    return sentence_letters == alphabet\n",
    "\n",
    "sentence1 = \"The quick brown fox jumps over the lazy dog.\"\n",
    "print(is_pangram(sentence1))  \n",
    "\n",
    "sentence2 = \"Pack my box with five dozen liquor jugs.\"\n",
    "print(is_pangram(sentence2)) \n",
    "\n",
    "sentence3 = \"Hello, world!\"\n",
    "print(is_pangram(sentence3))  \n"
   ]
  },
  {
   "cell_type": "code",
   "execution_count": 63,
   "metadata": {},
   "outputs": [
    {
     "name": "stdout",
     "output_type": "stream",
     "text": [
      "True\n",
      "False\n"
     ]
    }
   ],
   "source": [
    "'''10. Write a python program to create a function to check whether a string is an anagram\n",
    "or not.'''\n",
    "def is_anagram(str1, str2):\n",
    "    str1 = str1.lower()\n",
    "    str2 = str2.lower()\n",
    "    str1 = ''.join(sorted(str1))\n",
    "    str2 = ''.join(sorted(str2))\n",
    "    return str1 == str2\n",
    "word1 = \"listen\"\n",
    "word2 = \"silent\"\n",
    "print(is_anagram(word1, word2)) \n",
    "\n",
    "word3 = \"python\"\n",
    "word4 = \"java\"\n",
    "print(is_anagram(word3, word4)) \n"
   ]
  },
  {
   "cell_type": "code",
   "execution_count": null,
   "metadata": {},
   "outputs": [],
   "source": []
  }
 ],
 "metadata": {
  "kernelspec": {
   "display_name": "Python 3",
   "language": "python",
   "name": "python3"
  },
  "language_info": {
   "codemirror_mode": {
    "name": "ipython",
    "version": 3
   },
   "file_extension": ".py",
   "mimetype": "text/x-python",
   "name": "python",
   "nbconvert_exporter": "python",
   "pygments_lexer": "ipython3",
   "version": "3.10.6"
  },
  "orig_nbformat": 4
 },
 "nbformat": 4,
 "nbformat_minor": 2
}
